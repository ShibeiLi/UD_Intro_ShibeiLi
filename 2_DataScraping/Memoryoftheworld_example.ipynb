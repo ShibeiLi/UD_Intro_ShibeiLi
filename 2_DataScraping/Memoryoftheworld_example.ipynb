{
 "cells": [
  {
   "cell_type": "code",
   "execution_count": 18,
   "id": "86876aec",
   "metadata": {},
   "outputs": [
    {
     "name": "stdout",
     "output_type": "stream",
     "text": [
      "3.8.18\n"
     ]
    }
   ],
   "source": [
    "from platform import python_version\n",
    "\n",
    "print(python_version())"
   ]
  },
  {
   "cell_type": "code",
   "execution_count": 23,
   "id": "7b3923f9",
   "metadata": {},
   "outputs": [
    {
     "data": {
      "text/plain": [
       "'4.13.0'"
      ]
     },
     "execution_count": 23,
     "metadata": {},
     "output_type": "execute_result"
    }
   ],
   "source": [
    "selenium.__version__"
   ]
  },
  {
   "cell_type": "code",
   "execution_count": 24,
   "id": "171239dc",
   "metadata": {},
   "outputs": [
    {
     "data": {
      "text/plain": [
       "'117.0.5938.92'"
      ]
     },
     "execution_count": 24,
     "metadata": {},
     "output_type": "execute_result"
    }
   ],
   "source": [
    "driver.capabilities['browserVersion']"
   ]
  },
  {
   "cell_type": "code",
   "execution_count": 43,
   "id": "db1cbfb4",
   "metadata": {},
   "outputs": [],
   "source": [
    "# Import Selenium and its sub libraries\n",
    "import selenium \n",
    "from selenium import webdriver\n",
    "from selenium.webdriver.common.by import By\n",
    "from selenium.webdriver.common.keys import Keys\n",
    "from selenium.webdriver.support.ui import Select\n",
    "from selenium.webdriver.support.ui import WebDriverWait\n",
    "from selenium.webdriver.support import expected_conditions as EC\n",
    "import time\n",
    "from time import sleep"
   ]
  },
  {
   "cell_type": "code",
   "execution_count": 44,
   "id": "409b629d",
   "metadata": {},
   "outputs": [],
   "source": [
    "url=\"https://library.memoryoftheworld.org/\""
   ]
  },
  {
   "cell_type": "code",
   "execution_count": 48,
   "id": "60d21715",
   "metadata": {},
   "outputs": [
    {
     "name": "stdout",
     "output_type": "stream",
     "text": [
      "16\n"
     ]
    }
   ],
   "source": [
    "driver = webdriver.Chrome()\n",
    "driver.get(url)\n",
    "\n",
    "#Select option for button\n",
    "WebDriverWait(driver, 20).until(EC.element_to_be_clickable((\"xpath\", \"/html/body/div[2]/div[1]/button\"))).click()\n",
    "WebDriverWait(driver, 20).until(EC.element_to_be_clickable((\"xpath\", \"/html/body/div[2]/div[1]/ul/li[2]\"))).click()\n",
    "\n",
    "#identify search box\n",
    "search_query = driver.find_element(\"class name\",\"inline\")\n",
    "\n",
    "#enter search text\n",
    "search_query.send_keys('Venice')\n",
    "search_query.send_keys(Keys.RETURN)\n",
    "sleep(2)  \n",
    "\n",
    "#show list (not book covers)\n",
    "show_list=driver.find_element(\"xpath\",\"/html/body/div[1]/div[2]\")\n",
    "show_list.click()\n",
    "sleep(2) \n",
    "\n",
    "\n",
    "#Grab all books\n",
    "xpathbooks = \"//tr[@class = 'svelte-cty6wm']\"\n",
    "books=driver.find_elements(\"xpath\", xpathbooks)\n",
    "\n",
    "#Create lists\n",
    "books_list = []\n",
    "link_list=[]\n",
    "author_list=[]\n",
    "\n",
    "print(len(books))\n",
    "\n",
    "#Create loop to itterate on the list\n",
    "for b in range(len(books)):\n",
    "    try:          \n",
    "        \n",
    "        #Extracting title\n",
    "        title = books[b].find_element(\"xpath\",\".//a[@class = 'svelte-cty6wm']\").text\n",
    "        #print(title)\n",
    "        \n",
    "        #Extracting author\n",
    "        author = books[b].find_element('xpath', \".//a[(@title = 'search in authors')]\").text\n",
    "        #print(author)\n",
    "            \n",
    "        #Extracting link\n",
    "        link = books[b].find_element(\"link text\",title).get_attribute('href')\n",
    "        #print(link)        \n",
    "        \n",
    "        #Add item to the respective lists\n",
    "        books_list.append(title)\n",
    "        link_list.append(link)\n",
    "        author_list.append(author)\n",
    "        \n",
    "    except:\n",
    "        continue\n",
    "    sleep(0.5)  \n",
    "\n",
    "        \n",
    "        \n",
    "driver.quit() #tell Selenium to close the webpage"
   ]
  },
  {
   "cell_type": "code",
   "execution_count": 46,
   "id": "b4b2f26c",
   "metadata": {},
   "outputs": [],
   "source": [
    "import csv \n",
    "data=zip(books_list,link_list,author_list)\n",
    "\n",
    "with open('file.csv', 'w',newline='') as csvfile: \n",
    "    writer = csv.writer(csvfile) \n",
    "    for row in data:\n",
    "        writer.writerow(row)"
   ]
  },
  {
   "cell_type": "code",
   "execution_count": null,
   "id": "78e3cb73",
   "metadata": {},
   "outputs": [],
   "source": []
  }
 ],
 "metadata": {
  "kernelspec": {
   "display_name": "Python 3 (ipykernel)",
   "language": "python",
   "name": "python3"
  },
  "language_info": {
   "codemirror_mode": {
    "name": "ipython",
    "version": 3
   },
   "file_extension": ".py",
   "mimetype": "text/x-python",
   "name": "python",
   "nbconvert_exporter": "python",
   "pygments_lexer": "ipython3",
   "version": "3.10.9"
  }
 },
 "nbformat": 4,
 "nbformat_minor": 5
}
