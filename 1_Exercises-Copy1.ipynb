{
 "cells": [
  {
   "cell_type": "markdown",
   "id": "38e188a5",
   "metadata": {},
   "source": [
    "# Exercise 00\n",
    "Write a piece of code that allocates a list of 20 integers and initializes each element by its index multiplied by 5. Print the result."
   ]
  },
  {
   "cell_type": "code",
   "execution_count": 1,
   "id": "01aa4f35",
   "metadata": {},
   "outputs": [
    {
     "name": "stdout",
     "output_type": "stream",
     "text": [
      "[0, 5, 10, 15, 20, 25, 30, 35, 40, 45, 50, 55, 60, 65, 70, 75, 80, 85, 90, 95]\n"
     ]
    }
   ],
   "source": [
    "list = []\n",
    "for i in range(20):\n",
    "    value = i * 5\n",
    "    list.append(value)\n",
    "print(list)"
   ]
  },
  {
   "cell_type": "markdown",
   "id": "529d91ae",
   "metadata": {},
   "source": [
    "# Exercise 01\n",
    "Define a function that takes an integer as input, prints  all integers that it is divisable by, and returns the largest one."
   ]
  },
  {
   "cell_type": "code",
   "execution_count": 15,
   "id": "30e79132",
   "metadata": {},
   "outputs": [],
   "source": [
    "def all_divisable_number(n):\n",
    "    divisable_number = []\n",
    "    max_divisable = None\n",
    "    \n",
    "    for i in range(1, n + 1):\n",
    "        if n % i == 0:\n",
    "            divisable_number.append(i)\n",
    "            if max_divisable is None or i > max_divisable:\n",
    "                max_divisable = i\n",
    "                \n",
    "    print(n)\n",
    "    return max_divisable"
   ]
  },
  {
   "cell_type": "code",
   "execution_count": null,
   "id": "fd48b79c",
   "metadata": {},
   "outputs": [],
   "source": [
    "all_divisable_number(int(input('enter an integer: ')))"
   ]
  },
  {
   "cell_type": "markdown",
   "id": "cfbe30d4",
   "metadata": {},
   "source": [
    "# Exercise 02\n",
    "- create a dictionary with 6 keys and values of your choice\n",
    "- write a function that takes a dictionary and a value as input and returns whether the value occurs as a key in the dictionary\n",
    "- write a function that takes a dictionary as input, and returns the dictionary but the keys are swapped with their values (resolve the issue if a value occurs twice!)"
   ]
  },
  {
   "cell_type": "code",
   "execution_count": 20,
   "id": "2123f1c6",
   "metadata": {},
   "outputs": [
    {
     "name": "stdout",
     "output_type": "stream",
     "text": [
      "{'fruit1': 'apple', 'fruit2': 'banana', 'fruit3': 'orange', 'fruit4': 'melon', 'fruit5': 'lemon', 'fruit6': 'orange'} 6\n"
     ]
    }
   ],
   "source": [
    "dict_1 = {'fruit1':'apple',\n",
    "         'fruit2':'banana',\n",
    "         'fruit3':'orange',\n",
    "         'fruit4':'melon',\n",
    "         'fruit5':'lemon',\n",
    "         'fruit6':'orange'}\n",
    "print(dict_1,len(dict_1))"
   ]
  },
  {
   "cell_type": "markdown",
   "id": "b4b4e426",
   "metadata": {},
   "source": [
    "# Exercise 03\n",
    "Define a function that creates a dictionary of the first n fibonacci numbers as values paired with their indices as keys. "
   ]
  },
  {
   "cell_type": "code",
   "execution_count": 23,
   "id": "7845b5a4",
   "metadata": {},
   "outputs": [],
   "source": [
    "def fibonacci_dict(n):\n",
    "    fib_dict = {}\n",
    "    \n",
    "    a, b = 0, 1\n",
    "    for i in range(n):\n",
    "        fib_dict[i] = a\n",
    "        a, b = b, a + b\n",
    "        \n",
    "    return fib_dict"
   ]
  },
  {
   "cell_type": "code",
   "execution_count": 28,
   "id": "d2d43af8",
   "metadata": {},
   "outputs": [
    {
     "data": {
      "text/plain": [
       "{0: 0, 1: 1, 2: 1, 3: 2, 4: 3, 5: 5, 6: 8, 7: 13, 8: 21, 9: 34, 10: 55}"
      ]
     },
     "execution_count": 28,
     "metadata": {},
     "output_type": "execute_result"
    }
   ],
   "source": [
    "fibonacci_dict(11)"
   ]
  }
 ],
 "metadata": {
  "kernelspec": {
   "display_name": "Python 3 (ipykernel)",
   "language": "python",
   "name": "python3"
  },
  "language_info": {
   "codemirror_mode": {
    "name": "ipython",
    "version": 3
   },
   "file_extension": ".py",
   "mimetype": "text/x-python",
   "name": "python",
   "nbconvert_exporter": "python",
   "pygments_lexer": "ipython3",
   "version": "3.8.18"
  }
 },
 "nbformat": 4,
 "nbformat_minor": 5
}
